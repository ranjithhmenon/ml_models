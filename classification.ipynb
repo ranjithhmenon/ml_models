{
 "cells": [
  {
   "cell_type": "code",
   "execution_count": 1,
   "metadata": {},
   "outputs": [],
   "source": [
    "# importing basic packages\n",
    "import pandas as pd\n",
    "import numpy as np"
   ]
  },
  {
   "cell_type": "markdown",
   "metadata": {},
   "source": [
    "* The data consists of 2 csv files :\n",
    "    * One csv called \"features\" has all the predictor variables\n",
    "    * The other csv called \"labels\" has the unique ID and response variable\n",
    "<br><br/>\n",
    "\n",
    "* **Data Pre-processing :**\n",
    "    * Step 1 : Creating Test, Validation and Train splits\n",
    "        * Merge sheets \"features\" and \"labels\"\n",
    "        * Look for % of row split by response variable\n",
    "        * Correct class imbalance if exists\n",
    "        * Randomize the dataset and apply split method to create train, validation and test datasets\n"
   ]
  },
  {
   "cell_type": "code",
   "execution_count": 2,
   "metadata": {},
   "outputs": [],
   "source": [
    "# merging sheets\n",
    "# sheet containing feature data\n",
    "df_f = pd.read_csv('features.csv')"
   ]
  },
  {
   "cell_type": "code",
   "execution_count": 3,
   "metadata": {},
   "outputs": [],
   "source": [
    "# merging sheets\n",
    "# sheet containing labels data\n",
    "df_l = pd.read_csv('labels.csv')"
   ]
  },
  {
   "cell_type": "code",
   "execution_count": 4,
   "metadata": {},
   "outputs": [],
   "source": [
    "# merge the two to get complete dataset\n",
    "df_full = pd.merge(df_f,df_l,on='id')"
   ]
  },
  {
   "cell_type": "code",
   "execution_count": 5,
   "metadata": {},
   "outputs": [
    {
     "data": {
      "text/plain": [
       "(59400, 41)"
      ]
     },
     "execution_count": 5,
     "metadata": {},
     "output_type": "execute_result"
    }
   ],
   "source": [
    "df_full.shape"
   ]
  },
  {
   "cell_type": "code",
   "execution_count": 6,
   "metadata": {},
   "outputs": [
    {
     "data": {
      "text/html": [
       "<div>\n",
       "<style scoped>\n",
       "    .dataframe tbody tr th:only-of-type {\n",
       "        vertical-align: middle;\n",
       "    }\n",
       "\n",
       "    .dataframe tbody tr th {\n",
       "        vertical-align: top;\n",
       "    }\n",
       "\n",
       "    .dataframe thead th {\n",
       "        text-align: right;\n",
       "    }\n",
       "</style>\n",
       "<table border=\"1\" class=\"dataframe\">\n",
       "  <thead>\n",
       "    <tr style=\"text-align: right;\">\n",
       "      <th></th>\n",
       "      <th>id</th>\n",
       "      <th>amount_tsh</th>\n",
       "      <th>date_recorded</th>\n",
       "      <th>funder</th>\n",
       "      <th>gps_height</th>\n",
       "      <th>installer</th>\n",
       "      <th>longitude</th>\n",
       "      <th>latitude</th>\n",
       "      <th>wpt_name</th>\n",
       "      <th>num_private</th>\n",
       "      <th>...</th>\n",
       "      <th>water_quality</th>\n",
       "      <th>quality_group</th>\n",
       "      <th>quantity</th>\n",
       "      <th>quantity_group</th>\n",
       "      <th>source</th>\n",
       "      <th>source_type</th>\n",
       "      <th>source_class</th>\n",
       "      <th>waterpoint_type</th>\n",
       "      <th>waterpoint_type_group</th>\n",
       "      <th>status_group</th>\n",
       "    </tr>\n",
       "  </thead>\n",
       "  <tbody>\n",
       "    <tr>\n",
       "      <th>0</th>\n",
       "      <td>69572</td>\n",
       "      <td>6000.0</td>\n",
       "      <td>2011-03-14</td>\n",
       "      <td>Roman</td>\n",
       "      <td>1390</td>\n",
       "      <td>Roman</td>\n",
       "      <td>34.938093</td>\n",
       "      <td>-9.856322</td>\n",
       "      <td>none</td>\n",
       "      <td>0</td>\n",
       "      <td>...</td>\n",
       "      <td>soft</td>\n",
       "      <td>good</td>\n",
       "      <td>enough</td>\n",
       "      <td>enough</td>\n",
       "      <td>spring</td>\n",
       "      <td>spring</td>\n",
       "      <td>groundwater</td>\n",
       "      <td>communal standpipe</td>\n",
       "      <td>communal standpipe</td>\n",
       "      <td>functional</td>\n",
       "    </tr>\n",
       "  </tbody>\n",
       "</table>\n",
       "<p>1 rows × 41 columns</p>\n",
       "</div>"
      ],
      "text/plain": [
       "      id  amount_tsh date_recorded funder  gps_height installer  longitude  \\\n",
       "0  69572      6000.0    2011-03-14  Roman        1390     Roman  34.938093   \n",
       "\n",
       "   latitude wpt_name  num_private     ...      water_quality quality_group  \\\n",
       "0 -9.856322     none            0     ...               soft          good   \n",
       "\n",
       "  quantity  quantity_group  source source_type source_class  \\\n",
       "0   enough          enough  spring      spring  groundwater   \n",
       "\n",
       "      waterpoint_type waterpoint_type_group status_group  \n",
       "0  communal standpipe    communal standpipe   functional  \n",
       "\n",
       "[1 rows x 41 columns]"
      ]
     },
     "execution_count": 6,
     "metadata": {},
     "output_type": "execute_result"
    }
   ],
   "source": [
    "df_full.head(1)"
   ]
  },
  {
   "cell_type": "code",
   "execution_count": 7,
   "metadata": {},
   "outputs": [
    {
     "data": {
      "text/plain": [
       "functional                 32259\n",
       "non functional             22824\n",
       "functional needs repair     4317\n",
       "Name: status_group, dtype: int64"
      ]
     },
     "execution_count": 7,
     "metadata": {},
     "output_type": "execute_result"
    }
   ],
   "source": [
    "# checking for row count per level of response variable\n",
    "df_full['status_group'].value_counts()"
   ]
  },
  {
   "cell_type": "markdown",
   "metadata": {},
   "source": [
    "### Please note :\n",
    "* We see that the category **\"functional needs repair\"** forms a minor 7% of total data\n",
    "* Also, to limit the problem to that of a \"binary classification problem\", we would get rid of the rows belonging to this category"
   ]
  },
  {
   "cell_type": "code",
   "execution_count": 8,
   "metadata": {},
   "outputs": [],
   "source": [
    "# creating a reduced dataset by removing rows pertaining to the class = \"functional needs repair\"\n",
    "df_redc = df_full[df_full['status_group'] != 'functional needs repair']"
   ]
  },
  {
   "cell_type": "code",
   "execution_count": 9,
   "metadata": {},
   "outputs": [
    {
     "name": "stdout",
     "output_type": "stream",
     "text": [
      "<class 'pandas.core.frame.DataFrame'>\n",
      "Int64Index: 55083 entries, 0 to 59399\n",
      "Data columns (total 41 columns):\n",
      "id                       55083 non-null int64\n",
      "amount_tsh               55083 non-null float64\n",
      "date_recorded            55083 non-null object\n",
      "funder                   51885 non-null object\n",
      "gps_height               55083 non-null int64\n",
      "installer                51868 non-null object\n",
      "longitude                55083 non-null float64\n",
      "latitude                 55083 non-null float64\n",
      "wpt_name                 55083 non-null object\n",
      "num_private              55083 non-null int64\n",
      "basin                    55083 non-null object\n",
      "subvillage               54713 non-null object\n",
      "region                   55083 non-null object\n",
      "region_code              55083 non-null int64\n",
      "district_code            55083 non-null int64\n",
      "lga                      55083 non-null object\n",
      "ward                     55083 non-null object\n",
      "population               55083 non-null int64\n",
      "public_meeting           51905 non-null object\n",
      "recorded_by              55083 non-null object\n",
      "scheme_management        51429 non-null object\n",
      "scheme_name              28921 non-null object\n",
      "permit                   52327 non-null object\n",
      "construction_year        55083 non-null int64\n",
      "extraction_type          55083 non-null object\n",
      "extraction_type_group    55083 non-null object\n",
      "extraction_type_class    55083 non-null object\n",
      "management               55083 non-null object\n",
      "management_group         55083 non-null object\n",
      "payment                  55083 non-null object\n",
      "payment_type             55083 non-null object\n",
      "water_quality            55083 non-null object\n",
      "quality_group            55083 non-null object\n",
      "quantity                 55083 non-null object\n",
      "quantity_group           55083 non-null object\n",
      "source                   55083 non-null object\n",
      "source_type              55083 non-null object\n",
      "source_class             55083 non-null object\n",
      "waterpoint_type          55083 non-null object\n",
      "waterpoint_type_group    55083 non-null object\n",
      "status_group             55083 non-null object\n",
      "dtypes: float64(3), int64(7), object(31)\n",
      "memory usage: 17.7+ MB\n"
     ]
    }
   ],
   "source": [
    "df_redc.info()"
   ]
  },
  {
   "cell_type": "code",
   "execution_count": 10,
   "metadata": {},
   "outputs": [
    {
     "data": {
      "text/plain": [
       "(55083, 41)"
      ]
     },
     "execution_count": 10,
     "metadata": {},
     "output_type": "execute_result"
    }
   ],
   "source": [
    "df_redc.shape"
   ]
  },
  {
   "cell_type": "code",
   "execution_count": 11,
   "metadata": {},
   "outputs": [],
   "source": [
    "# randomize the data and separate out the test dataset\n",
    "from sklearn.utils import shuffle\n",
    "df_redc = shuffle(df_redc)\n",
    "test = df_redc[:5000]\n",
    "train = df_redc[5000:]\n",
    "# save test data as a csv which will be used only to evaluate the model in the end\n",
    "test[['id','status_group']].to_csv('test.csv',index=False)"
   ]
  },
  {
   "cell_type": "markdown",
   "metadata": {},
   "source": [
    "### Next Step :\n",
    "* Now, since the dataset consists of only two classes, let's check the class imbalance scenario"
   ]
  },
  {
   "cell_type": "code",
   "execution_count": 12,
   "metadata": {
    "scrolled": true
   },
   "outputs": [
    {
     "data": {
      "text/plain": [
       "functional        29280\n",
       "non functional    20803\n",
       "Name: status_group, dtype: int64"
      ]
     },
     "execution_count": 12,
     "metadata": {},
     "output_type": "execute_result"
    }
   ],
   "source": [
    "train.status_group.value_counts()"
   ]
  },
  {
   "cell_type": "code",
   "execution_count": 13,
   "metadata": {},
   "outputs": [
    {
     "data": {
      "text/plain": [
       "Index(['id', 'amount_tsh', 'date_recorded', 'funder', 'gps_height',\n",
       "       'installer', 'longitude', 'latitude', 'wpt_name', 'num_private',\n",
       "       'basin', 'subvillage', 'region', 'region_code', 'district_code', 'lga',\n",
       "       'ward', 'population', 'public_meeting', 'recorded_by',\n",
       "       'scheme_management', 'scheme_name', 'permit', 'construction_year',\n",
       "       'extraction_type', 'extraction_type_group', 'extraction_type_class',\n",
       "       'management', 'management_group', 'payment', 'payment_type',\n",
       "       'water_quality', 'quality_group', 'quantity', 'quantity_group',\n",
       "       'source', 'source_type', 'source_class', 'waterpoint_type',\n",
       "       'waterpoint_type_group', 'status_group'],\n",
       "      dtype='object')"
      ]
     },
     "execution_count": 13,
     "metadata": {},
     "output_type": "execute_result"
    }
   ],
   "source": [
    "train.columns"
   ]
  },
  {
   "cell_type": "code",
   "execution_count": 14,
   "metadata": {},
   "outputs": [],
   "source": [
    "# There are a no. of columns with missing data.All are categorical\n",
    "# scheme name column has almost 50% data missing. Hence, we drop it\n",
    "train = train.drop('scheme_name',axis = 1)"
   ]
  },
  {
   "cell_type": "code",
   "execution_count": 15,
   "metadata": {},
   "outputs": [],
   "source": [
    "# selecting all categorical features\n",
    "feature_cols = train.select_dtypes('object').columns"
   ]
  },
  {
   "cell_type": "code",
   "execution_count": 16,
   "metadata": {},
   "outputs": [],
   "source": [
    "# selecting all numeric features\n",
    "num_cols = train.select_dtypes('int64').columns"
   ]
  },
  {
   "cell_type": "code",
   "execution_count": 17,
   "metadata": {},
   "outputs": [
    {
     "name": "stdout",
     "output_type": "stream",
     "text": [
      "30\n",
      "7\n"
     ]
    }
   ],
   "source": [
    "print(len(feature_cols))\n",
    "print(len(num_cols))"
   ]
  },
  {
   "cell_type": "code",
   "execution_count": 18,
   "metadata": {
    "scrolled": true
   },
   "outputs": [],
   "source": [
    "# Let's do a bit of feature engineering and create a column called age (age of the pump since construction)\n",
    "train['year_recorded'] = train['date_recorded'].apply(lambda x: int(x.strip().split('-')[0]))\n",
    "train['handpump_age'] = train['year_recorded'] - train['construction_year']\n",
    "train.loc[train['handpump_age']==train['year_recorded'],['handpump_age']] = np.nan"
   ]
  },
  {
   "cell_type": "markdown",
   "metadata": {},
   "source": [
    "### Missing value treatment :\n",
    "* 35% of handpump data is missing\n",
    "* I'll use the below strategy to treat missing values\n",
    "    * Find district wise average age of the pumps and replace the missing values with the same"
   ]
  },
  {
   "cell_type": "code",
   "execution_count": 19,
   "metadata": {},
   "outputs": [],
   "source": [
    "df_p1 = train.loc[~train['handpump_age'].isna()]"
   ]
  },
  {
   "cell_type": "code",
   "execution_count": 20,
   "metadata": {},
   "outputs": [],
   "source": [
    "df_p2 = train.loc[train['handpump_age'].isna()]"
   ]
  },
  {
   "cell_type": "code",
   "execution_count": 21,
   "metadata": {},
   "outputs": [],
   "source": [
    "df_p3 = train.groupby('district_code')['handpump_age'].agg(np.mean).to_frame()"
   ]
  },
  {
   "cell_type": "code",
   "execution_count": 22,
   "metadata": {},
   "outputs": [],
   "source": [
    "df_p4 = pd.merge(df_p2,df_p3,on='district_code')"
   ]
  },
  {
   "cell_type": "code",
   "execution_count": 23,
   "metadata": {},
   "outputs": [],
   "source": [
    "df_p4 = df_p4.drop('handpump_age_y',axis = 1)"
   ]
  },
  {
   "cell_type": "code",
   "execution_count": 24,
   "metadata": {},
   "outputs": [],
   "source": [
    "df_p4 = df_p4.rename(columns = {\"handpump_age_x\": \"handpump_age\"}) "
   ]
  },
  {
   "cell_type": "code",
   "execution_count": 25,
   "metadata": {},
   "outputs": [],
   "source": [
    "train = pd.concat([df_p1,df_p4])"
   ]
  },
  {
   "cell_type": "code",
   "execution_count": 26,
   "metadata": {},
   "outputs": [],
   "source": [
    "train[feature_cols] = train[feature_cols].fillna(np.nan)"
   ]
  },
  {
   "cell_type": "code",
   "execution_count": 27,
   "metadata": {
    "scrolled": true
   },
   "outputs": [],
   "source": [
    "# removing all the rows having null values for handpump_age\n",
    "df_final = train[~train['handpump_age'].isna()]"
   ]
  },
  {
   "cell_type": "code",
   "execution_count": 28,
   "metadata": {},
   "outputs": [],
   "source": [
    "# dropping variables which have either too many levels or seem to be of no use\n",
    "df_final = df_final.drop(['wpt_name','date_recorded','installer','subvillage','funder','latitude','longitude','gps_height','ward',],axis=1)"
   ]
  },
  {
   "cell_type": "markdown",
   "metadata": {},
   "source": [
    "### Outlier Treatment\n",
    "* We'll analyze two of the numeric features i.e amount_tsh and handpump_age for outliers and treat them accordingly"
   ]
  },
  {
   "cell_type": "code",
   "execution_count": 34,
   "metadata": {},
   "outputs": [
    {
     "data": {
      "text/plain": [
       "<matplotlib.axes._subplots.AxesSubplot at 0x24d234d8f60>"
      ]
     },
     "execution_count": 34,
     "metadata": {},
     "output_type": "execute_result"
    },
    {
     "data": {
      "image/png": "[encoded data removed]",
      "text/plain": [
       "<Figure size 432x288 with 1 Axes>"
      ]
     },
     "metadata": {},
     "output_type": "display_data"
    }
   ],
   "source": [
    "import matplotlib.pyplot as plt\n",
    "import seaborn as sns\n",
    "%matplotlib inline\n",
    "sns.boxplot(df_final['handpump_age'])"
   ]
  },
  {
   "cell_type": "code",
   "execution_count": 35,
   "metadata": {},
   "outputs": [
    {
     "data": {
      "text/plain": [
       "<matplotlib.axes._subplots.AxesSubplot at 0x24d2351e3c8>"
      ]
     },
     "execution_count": 35,
     "metadata": {},
     "output_type": "execute_result"
    },
    {
     "data": {
      "image/png": "[encoded data removed]",
      "text/plain": [
       "<Figure size 432x288 with 1 Axes>"
      ]
     },
     "metadata": {},
     "output_type": "display_data"
    }
   ],
   "source": [
    "sns.boxplot(df_final['amount_tsh'])"
   ]
  },
  {
   "cell_type": "code",
   "execution_count": 36,
   "metadata": {},
   "outputs": [],
   "source": [
    "from numpy import percentile\n",
    "Q1 = df_final['amount_tsh'].quantile(0.25)"
   ]
  },
  {
   "cell_type": "code",
   "execution_count": 37,
   "metadata": {},
   "outputs": [],
   "source": [
    "Q3 = df_final['amount_tsh'].quantile(0.75)"
   ]
  },
  {
   "cell_type": "code",
   "execution_count": 38,
   "metadata": {},
   "outputs": [],
   "source": [
    "IQR = Q3-Q1"
   ]
  },
  {
   "cell_type": "code",
   "execution_count": 39,
   "metadata": {},
   "outputs": [],
   "source": [
    "lower_band = 0 if Q1 - 1.5*IQR <= 0 else Q1 - 1.5*IQR\n",
    "upper_band = Q3 + 1.5*IQR"
   ]
  },
  {
   "cell_type": "code",
   "execution_count": 40,
   "metadata": {},
   "outputs": [
    {
     "data": {
      "text/plain": [
       "(0, 500.0)"
      ]
     },
     "execution_count": 40,
     "metadata": {},
     "output_type": "execute_result"
    }
   ],
   "source": [
    "lower_band,upper_band"
   ]
  },
  {
   "cell_type": "code",
   "execution_count": 41,
   "metadata": {},
   "outputs": [],
   "source": [
    "df_final['amount_tsh'] = df_final['amount_tsh'].clip(lower = lower_band, upper = upper_band)"
   ]
  },
  {
   "cell_type": "markdown",
   "metadata": {},
   "source": [
    "### Exploratory Data Analysis"
   ]
  },
  {
   "cell_type": "markdown",
   "metadata": {},
   "source": [
    "### Hypotheses to test :\n",
    "* Now, since we have a clean data, let's do some EDA\n",
    "* I have formulated several hypotheses which I'll explore during the EDA phase :\n",
    "    * The older the pump, the higher the chance of damage\n",
    "    * The higher the population of the location, the higher the usage of the pump, thus higher the chance of damage\n",
    "    * Water Quality may have an impact. Salty water may lead to internal rusting of the pump hence leading to possible damage\n",
    "    * The installer company may show some impact (A given company may manufacture inferior quality pumps compared to others)\n",
    "    * Funder, Installer, Lat-Long, Source, Region may not have any impact on the defectiveness of the pump\n",
    "<br><br/>\n",
    "#### Let's analyze the dataset based on the above stated hypotheses!"
   ]
  },
  {
   "cell_type": "code",
   "execution_count": 42,
   "metadata": {},
   "outputs": [],
   "source": [
    "import matplotlib.pyplot as plt\n",
    "import seaborn as sns\n",
    "%matplotlib inline"
   ]
  },
  {
   "cell_type": "code",
   "execution_count": 43,
   "metadata": {
    "scrolled": true
   },
   "outputs": [
    {
     "data": {
      "text/plain": [
       "<matplotlib.axes._subplots.AxesSubplot at 0x24d2357da58>"
      ]
     },
     "execution_count": 43,
     "metadata": {},
     "output_type": "execute_result"
    },
    {
     "data": {
      "image/png": "[encoded data removed]",
      "text/plain": [
       "<Figure size 432x288 with 1 Axes>"
      ]
     },
     "metadata": {},
     "output_type": "display_data"
    }
   ],
   "source": [
    "sns.boxplot( x=df_final[\"status_group\"], y=df_final[\"handpump_age\"], width = 0.5)"
   ]
  },
  {
   "cell_type": "markdown",
   "metadata": {},
   "source": [
    "### Conclusion : \n",
    "* It seems functional pumps distribution is negatively skewed and that of non-functional pumps is positively skewed\n",
    "* It appears that age does have an impact on degree of damage to the pumps"
   ]
  },
  {
   "cell_type": "code",
   "execution_count": 44,
   "metadata": {},
   "outputs": [
    {
     "data": {
      "text/plain": [
       "<matplotlib.axes._subplots.AxesSubplot at 0x24d2414b390>"
      ]
     },
     "execution_count": 44,
     "metadata": {},
     "output_type": "execute_result"
    },
    {
     "data": {
      "image/png": "[encoded data removed]",
      "text/plain": [
       "<Figure size 432x288 with 1 Axes>"
      ]
     },
     "metadata": {},
     "output_type": "display_data"
    }
   ],
   "source": [
    "sns.boxplot( x=df_final[\"status_group\"], y=df_final[\"amount_tsh\"], width = 0.5)"
   ]
  },
  {
   "cell_type": "code",
   "execution_count": 45,
   "metadata": {},
   "outputs": [
    {
     "data": {
      "text/plain": [
       "<matplotlib.axes._subplots.AxesSubplot at 0x24d241c2320>"
      ]
     },
     "execution_count": 45,
     "metadata": {},
     "output_type": "execute_result"
    },
    {
     "data": {
      "image/png": "[encoded data removed]",
      "text/plain": [
       "<Figure size 864x432 with 1 Axes>"
      ]
     },
     "metadata": {},
     "output_type": "display_data"
    }
   ],
   "source": [
    "# visualizing defective status by payment_type\n",
    "from matplotlib.pyplot import figure\n",
    "figure(num=None, figsize=(12, 6))\n",
    "y = df_final[df_final['status_group']=='non functional'].groupby(['payment_type'])['id'].agg(np.size).values\n",
    "x = df_final[df_final['status_group']=='non functional'].groupby(['payment_type'])['id'].agg(np.size).index\n",
    "sns.barplot(x=x, y=y, data=df_final)"
   ]
  },
  {
   "cell_type": "markdown",
   "metadata": {},
   "source": [
    "### Conclusion : \n",
    "* It appears that a majority of handpumps are non-functional since the payment (could be some fee or maintenance charges) has never been made. Payment type may have an impact on the response variable"
   ]
  },
  {
   "cell_type": "code",
   "execution_count": 46,
   "metadata": {},
   "outputs": [
    {
     "data": {
      "text/plain": [
       "<matplotlib.axes._subplots.AxesSubplot at 0x24d241e1400>"
      ]
     },
     "execution_count": 46,
     "metadata": {},
     "output_type": "execute_result"
    },
    {
     "data": {
      "image/png": "[encoded data removed]",
      "text/plain": [
       "<Figure size 864x432 with 1 Axes>"
      ]
     },
     "metadata": {},
     "output_type": "display_data"
    }
   ],
   "source": [
    "# visualizing defective status by water_quality\n",
    "from matplotlib.pyplot import figure\n",
    "figure(num=None, figsize=(12, 6))\n",
    "y = df_final[df_final['status_group']=='non functional'].groupby(['water_quality'])['id'].agg(np.size).values\n",
    "x = df_final[df_final['status_group']=='non functional'].groupby(['water_quality'])['id'].agg(np.size).index\n",
    "sns.barplot(x=x, y=y, data=df_final)"
   ]
  },
  {
   "cell_type": "markdown",
   "metadata": {},
   "source": [
    "### Conclusion : \n",
    "* It appears that \"soft\" water leads to defective hand pumps in majority of the cases.While looking for the cause of this, I got to read the following article [here](https://curaflo.com/soft-water/). This shows quality of water can lead to corrosion of pipes in a big way"
   ]
  },
  {
   "cell_type": "code",
   "execution_count": 47,
   "metadata": {},
   "outputs": [
    {
     "name": "stdout",
     "output_type": "stream",
     "text": [
      "<class 'pandas.core.frame.DataFrame'>\n",
      "Int64Index: 32877 entries, 10996 to 21598\n",
      "Data columns (total 33 columns):\n",
      "id                       32877 non-null int64\n",
      "amount_tsh               32877 non-null float64\n",
      "num_private              32877 non-null int64\n",
      "basin                    32877 non-null object\n",
      "region                   32877 non-null object\n",
      "region_code              32877 non-null int64\n",
      "district_code            32877 non-null int64\n",
      "lga                      32877 non-null object\n",
      "population               32877 non-null int64\n",
      "public_meeting           30893 non-null object\n",
      "recorded_by              32877 non-null object\n",
      "scheme_management        30757 non-null object\n",
      "permit                   31258 non-null object\n",
      "construction_year        32877 non-null int64\n",
      "extraction_type          32877 non-null object\n",
      "extraction_type_group    32877 non-null object\n",
      "extraction_type_class    32877 non-null object\n",
      "management               32877 non-null object\n",
      "management_group         32877 non-null object\n",
      "payment                  32877 non-null object\n",
      "payment_type             32877 non-null object\n",
      "water_quality            32877 non-null object\n",
      "quality_group            32877 non-null object\n",
      "quantity                 32877 non-null object\n",
      "quantity_group           32877 non-null object\n",
      "source                   32877 non-null object\n",
      "source_type              32877 non-null object\n",
      "source_class             32877 non-null object\n",
      "waterpoint_type          32877 non-null object\n",
      "waterpoint_type_group    32877 non-null object\n",
      "status_group             32877 non-null object\n",
      "year_recorded            32877 non-null int64\n",
      "handpump_age             32877 non-null float64\n",
      "dtypes: float64(2), int64(7), object(24)\n",
      "memory usage: 9.8+ MB\n"
     ]
    }
   ],
   "source": [
    "df_final.info()"
   ]
  },
  {
   "cell_type": "code",
   "execution_count": 48,
   "metadata": {},
   "outputs": [
    {
     "data": {
      "text/plain": [
       "<matplotlib.axes._subplots.AxesSubplot at 0x24d242a5f98>"
      ]
     },
     "execution_count": 48,
     "metadata": {},
     "output_type": "execute_result"
    },
    {
     "data": {
      "image/png": "[encoded data removed]",
      "text/plain": [
       "<Figure size 864x288 with 1 Axes>"
      ]
     },
     "metadata": {},
     "output_type": "display_data"
    }
   ],
   "source": [
    "# visualizing defective status by waterpoint type\n",
    "from matplotlib.pyplot import figure\n",
    "figure(num=None, figsize=(12,4))\n",
    "y = df_final[df_final['status_group']=='non functional'].groupby(['waterpoint_type'])['id'].agg(np.size).values\n",
    "x = df_final[df_final['status_group']=='non functional'].groupby(['waterpoint_type'])['id'].agg(np.size).index\n",
    "sns.barplot(x=x, y=y, data=df_final)"
   ]
  },
  {
   "cell_type": "code",
   "execution_count": 49,
   "metadata": {
    "scrolled": true
   },
   "outputs": [
    {
     "data": {
      "text/plain": [
       "<matplotlib.axes._subplots.AxesSubplot at 0x24d24306780>"
      ]
     },
     "execution_count": 49,
     "metadata": {},
     "output_type": "execute_result"
    },
    {
     "data": {
      "image/png": "[encoded data removed]",
      "text/plain": [
       "<Figure size 864x288 with 1 Axes>"
      ]
     },
     "metadata": {},
     "output_type": "display_data"
    }
   ],
   "source": [
    "# visualizing defective status by quantity\n",
    "from matplotlib.pyplot import figure\n",
    "figure(num=None, figsize=(12,4))\n",
    "y = df_final[df_final['status_group']=='non functional'].groupby(['quantity'])['id'].agg(np.size).values\n",
    "x = df_final[df_final['status_group']=='non functional'].groupby(['quantity'])['id'].agg(np.size).index\n",
    "sns.barplot(x=x, y=y, data=df_final)"
   ]
  },
  {
   "cell_type": "markdown",
   "metadata": {},
   "source": [
    "### Conclusion : \n",
    "* Can't say conclusively whether source of water has any impact on the extent of damage to the hand pump"
   ]
  },
  {
   "cell_type": "code",
   "execution_count": 50,
   "metadata": {},
   "outputs": [
    {
     "data": {
      "text/plain": [
       "<matplotlib.axes._subplots.AxesSubplot at 0x24d2434ebe0>"
      ]
     },
     "execution_count": 50,
     "metadata": {},
     "output_type": "execute_result"
    },
    {
     "data": {
      "image/png": "[encoded data removed]",
      "text/plain": [
       "<Figure size 864x432 with 1 Axes>"
      ]
     },
     "metadata": {},
     "output_type": "display_data"
    }
   ],
   "source": [
    "# visualizing defective status by management_group\n",
    "from matplotlib.pyplot import figure\n",
    "figure(num=None, figsize=(12, 6))\n",
    "y = df_final[df_final['status_group']=='non functional'].groupby(['management_group'])['id'].agg(np.size).values\n",
    "x = df_final[df_final['status_group']=='non functional'].groupby(['management_group'])['id'].agg(np.size).index\n",
    "sns.barplot(x=x, y=y, data=df_final)"
   ]
  },
  {
   "cell_type": "markdown",
   "metadata": {},
   "source": [
    "### Conclusion : \n",
    "* It is evident that the hand pumps managed by user groups are more prone to damage (may be due to negligience)"
   ]
  },
  {
   "cell_type": "code",
   "execution_count": 51,
   "metadata": {},
   "outputs": [
    {
     "data": {
      "text/plain": [
       "<matplotlib.axes._subplots.AxesSubplot at 0x24d24285d68>"
      ]
     },
     "execution_count": 51,
     "metadata": {},
     "output_type": "execute_result"
    },
    {
     "data": {
      "image/png": "[encoded data removed]",
      "text/plain": [
       "<Figure size 864x432 with 1 Axes>"
      ]
     },
     "metadata": {},
     "output_type": "display_data"
    }
   ],
   "source": [
    "# visualizing defective status by payment_type\n",
    "from matplotlib.pyplot import figure\n",
    "figure(num=None, figsize=(12, 6))\n",
    "y = df_final[df_final['status_group']=='non functional'].groupby(['basin'])['id'].agg(np.size).values\n",
    "x = df_final[df_final['status_group']=='non functional'].groupby(['basin'])['id'].agg(np.size).index\n",
    "sns.barplot(x=x, y=y, data=df_final)"
   ]
  },
  {
   "cell_type": "markdown",
   "metadata": {},
   "source": [
    "### Conclusion : \n",
    "* It seems nothing can be said conclusively about the impact of type of basin on hand pump damage"
   ]
  },
  {
   "cell_type": "code",
   "execution_count": 52,
   "metadata": {},
   "outputs": [],
   "source": [
    "df_final = df_final.drop(['num_private','lga','construction_year'\n",
    "                          ,'extraction_type','extraction_type_group','management'\n",
    "                         ,'source_type','quality_group','quantity_group'\n",
    "                         ,'waterpoint_type_group','year_recorded'],axis=1)"
   ]
  },
  {
   "cell_type": "code",
   "execution_count": 53,
   "metadata": {},
   "outputs": [
    {
     "data": {
      "text/html": [
       "<div>\n",
       "<style scoped>\n",
       "    .dataframe tbody tr th:only-of-type {\n",
       "        vertical-align: middle;\n",
       "    }\n",
       "\n",
       "    .dataframe tbody tr th {\n",
       "        vertical-align: top;\n",
       "    }\n",
       "\n",
       "    .dataframe thead th {\n",
       "        text-align: right;\n",
       "    }\n",
       "</style>\n",
       "<table border=\"1\" class=\"dataframe\">\n",
       "  <thead>\n",
       "    <tr style=\"text-align: right;\">\n",
       "      <th></th>\n",
       "      <th>id</th>\n",
       "      <th>amount_tsh</th>\n",
       "      <th>basin</th>\n",
       "      <th>region</th>\n",
       "      <th>region_code</th>\n",
       "      <th>district_code</th>\n",
       "      <th>population</th>\n",
       "      <th>public_meeting</th>\n",
       "      <th>recorded_by</th>\n",
       "      <th>scheme_management</th>\n",
       "      <th>...</th>\n",
       "      <th>management_group</th>\n",
       "      <th>payment</th>\n",
       "      <th>payment_type</th>\n",
       "      <th>water_quality</th>\n",
       "      <th>quantity</th>\n",
       "      <th>source</th>\n",
       "      <th>source_class</th>\n",
       "      <th>waterpoint_type</th>\n",
       "      <th>status_group</th>\n",
       "      <th>handpump_age</th>\n",
       "    </tr>\n",
       "  </thead>\n",
       "  <tbody>\n",
       "    <tr>\n",
       "      <th>10996</th>\n",
       "      <td>38228</td>\n",
       "      <td>10.0</td>\n",
       "      <td>Pangani</td>\n",
       "      <td>Kilimanjaro</td>\n",
       "      <td>3</td>\n",
       "      <td>5</td>\n",
       "      <td>15</td>\n",
       "      <td>True</td>\n",
       "      <td>GeoData Consultants Ltd</td>\n",
       "      <td>Water Board</td>\n",
       "      <td>...</td>\n",
       "      <td>user-group</td>\n",
       "      <td>pay per bucket</td>\n",
       "      <td>per bucket</td>\n",
       "      <td>soft</td>\n",
       "      <td>enough</td>\n",
       "      <td>spring</td>\n",
       "      <td>groundwater</td>\n",
       "      <td>communal standpipe</td>\n",
       "      <td>functional</td>\n",
       "      <td>14.0</td>\n",
       "    </tr>\n",
       "    <tr>\n",
       "      <th>10402</th>\n",
       "      <td>12371</td>\n",
       "      <td>0.0</td>\n",
       "      <td>Rufiji</td>\n",
       "      <td>Iringa</td>\n",
       "      <td>11</td>\n",
       "      <td>4</td>\n",
       "      <td>112</td>\n",
       "      <td>True</td>\n",
       "      <td>GeoData Consultants Ltd</td>\n",
       "      <td>VWC</td>\n",
       "      <td>...</td>\n",
       "      <td>user-group</td>\n",
       "      <td>pay when scheme fails</td>\n",
       "      <td>on failure</td>\n",
       "      <td>soft</td>\n",
       "      <td>insufficient</td>\n",
       "      <td>spring</td>\n",
       "      <td>groundwater</td>\n",
       "      <td>communal standpipe</td>\n",
       "      <td>functional</td>\n",
       "      <td>2.0</td>\n",
       "    </tr>\n",
       "    <tr>\n",
       "      <th>15371</th>\n",
       "      <td>25801</td>\n",
       "      <td>0.0</td>\n",
       "      <td>Pangani</td>\n",
       "      <td>Kilimanjaro</td>\n",
       "      <td>3</td>\n",
       "      <td>4</td>\n",
       "      <td>1</td>\n",
       "      <td>False</td>\n",
       "      <td>GeoData Consultants Ltd</td>\n",
       "      <td>Parastatal</td>\n",
       "      <td>...</td>\n",
       "      <td>parastatal</td>\n",
       "      <td>never pay</td>\n",
       "      <td>never pay</td>\n",
       "      <td>soft</td>\n",
       "      <td>enough</td>\n",
       "      <td>spring</td>\n",
       "      <td>groundwater</td>\n",
       "      <td>communal standpipe</td>\n",
       "      <td>functional</td>\n",
       "      <td>45.0</td>\n",
       "    </tr>\n",
       "    <tr>\n",
       "      <th>15925</th>\n",
       "      <td>49974</td>\n",
       "      <td>50.0</td>\n",
       "      <td>Lake Nyasa</td>\n",
       "      <td>Ruvuma</td>\n",
       "      <td>10</td>\n",
       "      <td>2</td>\n",
       "      <td>300</td>\n",
       "      <td>True</td>\n",
       "      <td>GeoData Consultants Ltd</td>\n",
       "      <td>VWC</td>\n",
       "      <td>...</td>\n",
       "      <td>user-group</td>\n",
       "      <td>pay per bucket</td>\n",
       "      <td>per bucket</td>\n",
       "      <td>soft</td>\n",
       "      <td>dry</td>\n",
       "      <td>shallow well</td>\n",
       "      <td>groundwater</td>\n",
       "      <td>hand pump</td>\n",
       "      <td>non functional</td>\n",
       "      <td>13.0</td>\n",
       "    </tr>\n",
       "    <tr>\n",
       "      <th>44995</th>\n",
       "      <td>50441</td>\n",
       "      <td>0.0</td>\n",
       "      <td>Wami / Ruvu</td>\n",
       "      <td>Pwani</td>\n",
       "      <td>6</td>\n",
       "      <td>1</td>\n",
       "      <td>40</td>\n",
       "      <td>True</td>\n",
       "      <td>GeoData Consultants Ltd</td>\n",
       "      <td>Company</td>\n",
       "      <td>...</td>\n",
       "      <td>user-group</td>\n",
       "      <td>never pay</td>\n",
       "      <td>never pay</td>\n",
       "      <td>soft</td>\n",
       "      <td>enough</td>\n",
       "      <td>river</td>\n",
       "      <td>surface</td>\n",
       "      <td>communal standpipe</td>\n",
       "      <td>non functional</td>\n",
       "      <td>19.0</td>\n",
       "    </tr>\n",
       "  </tbody>\n",
       "</table>\n",
       "<p>5 rows × 22 columns</p>\n",
       "</div>"
      ],
      "text/plain": [
       "          id  amount_tsh        basin       region  region_code  \\\n",
       "10996  38228        10.0      Pangani  Kilimanjaro            3   \n",
       "10402  12371         0.0       Rufiji       Iringa           11   \n",
       "15371  25801         0.0      Pangani  Kilimanjaro            3   \n",
       "15925  49974        50.0   Lake Nyasa       Ruvuma           10   \n",
       "44995  50441         0.0  Wami / Ruvu        Pwani            6   \n",
       "\n",
       "       district_code  population public_meeting              recorded_by  \\\n",
       "10996              5          15           True  GeoData Consultants Ltd   \n",
       "10402              4         112           True  GeoData Consultants Ltd   \n",
       "15371              4           1          False  GeoData Consultants Ltd   \n",
       "15925              2         300           True  GeoData Consultants Ltd   \n",
       "44995              1          40           True  GeoData Consultants Ltd   \n",
       "\n",
       "      scheme_management     ...      management_group                payment  \\\n",
       "10996       Water Board     ...            user-group         pay per bucket   \n",
       "10402               VWC     ...            user-group  pay when scheme fails   \n",
       "15371        Parastatal     ...            parastatal              never pay   \n",
       "15925               VWC     ...            user-group         pay per bucket   \n",
       "44995           Company     ...            user-group              never pay   \n",
       "\n",
       "      payment_type water_quality      quantity        source source_class  \\\n",
       "10996   per bucket          soft        enough        spring  groundwater   \n",
       "10402   on failure          soft  insufficient        spring  groundwater   \n",
       "15371    never pay          soft        enough        spring  groundwater   \n",
       "15925   per bucket          soft           dry  shallow well  groundwater   \n",
       "44995    never pay          soft        enough         river      surface   \n",
       "\n",
       "          waterpoint_type    status_group handpump_age  \n",
       "10996  communal standpipe      functional         14.0  \n",
       "10402  communal standpipe      functional          2.0  \n",
       "15371  communal standpipe      functional         45.0  \n",
       "15925           hand pump  non functional         13.0  \n",
       "44995  communal standpipe  non functional         19.0  \n",
       "\n",
       "[5 rows x 22 columns]"
      ]
     },
     "execution_count": 53,
     "metadata": {},
     "output_type": "execute_result"
    }
   ],
   "source": [
    "# let's look at the no. of levels for each categorical variable\n",
    "df_final.head()"
   ]
  },
  {
   "cell_type": "code",
   "execution_count": 54,
   "metadata": {},
   "outputs": [
    {
     "name": "stdout",
     "output_type": "stream",
     "text": [
      "<class 'pandas.core.frame.DataFrame'>\n",
      "Int64Index: 32877 entries, 10996 to 21598\n",
      "Data columns (total 22 columns):\n",
      "id                       32877 non-null int64\n",
      "amount_tsh               32877 non-null float64\n",
      "basin                    32877 non-null object\n",
      "region                   32877 non-null object\n",
      "region_code              32877 non-null int64\n",
      "district_code            32877 non-null int64\n",
      "population               32877 non-null int64\n",
      "public_meeting           30893 non-null object\n",
      "recorded_by              32877 non-null object\n",
      "scheme_management        30757 non-null object\n",
      "permit                   31258 non-null object\n",
      "extraction_type_class    32877 non-null object\n",
      "management_group         32877 non-null object\n",
      "payment                  32877 non-null object\n",
      "payment_type             32877 non-null object\n",
      "water_quality            32877 non-null object\n",
      "quantity                 32877 non-null object\n",
      "source                   32877 non-null object\n",
      "source_class             32877 non-null object\n",
      "waterpoint_type          32877 non-null object\n",
      "status_group             32877 non-null object\n",
      "handpump_age             32877 non-null float64\n",
      "dtypes: float64(2), int64(4), object(16)\n",
      "memory usage: 7.0+ MB\n"
     ]
    }
   ],
   "source": [
    "df_final.info()"
   ]
  },
  {
   "cell_type": "code",
   "execution_count": 55,
   "metadata": {},
   "outputs": [],
   "source": [
    "final_feat_cols = df_final.select_dtypes('object').columns"
   ]
  },
  {
   "cell_type": "markdown",
   "metadata": {},
   "source": [
    "### Discussion on Exploratory Data Analysis :"
   ]
  },
  {
   "cell_type": "markdown",
   "metadata": {},
   "source": [
    "### Next Step : \n",
    "* With a fair bit of understanding of the potential factors leading to defective pumps, let's get into actual modelling and see how better the machine predicts"
   ]
  },
  {
   "cell_type": "code",
   "execution_count": 56,
   "metadata": {
    "scrolled": false
   },
   "outputs": [],
   "source": [
    "# let's split the train data further into features and labels\n",
    "df_final['status_group'] = df_final['status_group'].map({'non functional': 1, 'functional': 0})"
   ]
  },
  {
   "cell_type": "code",
   "execution_count": 57,
   "metadata": {
    "scrolled": false
   },
   "outputs": [],
   "source": [
    "df_final[final_feat_cols] = df_final[final_feat_cols].fillna('N/A')"
   ]
  },
  {
   "cell_type": "code",
   "execution_count": 58,
   "metadata": {},
   "outputs": [],
   "source": [
    "df_final['public_meeting'] = df_final['public_meeting'].map({'True': 1, 'False': 0, 'N/A': 0})\n",
    "df_final['permit'] = df_final['permit'].map({'True': 1, 'False': 0, 'N/A': 0})"
   ]
  },
  {
   "cell_type": "code",
   "execution_count": 59,
   "metadata": {},
   "outputs": [],
   "source": [
    "# label encoding categorical features\n",
    "from sklearn.preprocessing import LabelEncoder\n",
    "le = LabelEncoder()\n",
    "df_final = df_final.apply(LabelEncoder().fit_transform)"
   ]
  },
  {
   "cell_type": "code",
   "execution_count": 60,
   "metadata": {
    "scrolled": true
   },
   "outputs": [],
   "source": [
    "# splitting the feature and response variables\n",
    "X = df_final.loc[:,df_final.columns != 'status_group']\n",
    "y = df_final['status_group']"
   ]
  },
  {
   "cell_type": "code",
   "execution_count": 63,
   "metadata": {},
   "outputs": [],
   "source": [
    "# creating the train and validation split\n",
    "from sklearn.model_selection import train_test_split\n",
    "X_train, X_test, y_train, y_test = train_test_split(X, y, test_size=0.30, random_state=42)"
   ]
  },
  {
   "cell_type": "code",
   "execution_count": 64,
   "metadata": {},
   "outputs": [
    {
     "data": {
      "text/plain": [
       "Index(['id', 'amount_tsh', 'basin', 'region', 'region_code', 'district_code',\n",
       "       'population', 'public_meeting', 'recorded_by', 'scheme_management',\n",
       "       'permit', 'extraction_type_class', 'management_group', 'payment',\n",
       "       'payment_type', 'water_quality', 'quantity', 'source', 'source_class',\n",
       "       'waterpoint_type', 'handpump_age'],\n",
       "      dtype='object')"
      ]
     },
     "execution_count": 64,
     "metadata": {},
     "output_type": "execute_result"
    }
   ],
   "source": [
    "X_train.columns"
   ]
  },
  {
   "cell_type": "code",
   "execution_count": 70,
   "metadata": {},
   "outputs": [],
   "source": [
    "from sklearn.linear_model import LogisticRegression\n",
    "from sklearn.tree import DecisionTreeClassifier\n",
    "from sklearn.ensemble import RandomForestClassifier\n",
    "from sklearn.metrics import accuracy_score,fbeta_score"
   ]
  },
  {
   "cell_type": "code",
   "execution_count": 71,
   "metadata": {},
   "outputs": [],
   "source": [
    "# pass 1 : Logistic Regression\n",
    "model1 = LogisticRegression()"
   ]
  },
  {
   "cell_type": "code",
   "execution_count": 77,
   "metadata": {},
   "outputs": [
    {
     "name": "stdout",
     "output_type": "stream",
     "text": [
      "The accuracy score of Logistic Regression model is 0.7272911597729116\n",
      "The fbeta score of Logistic Regression model is 0.6645841691981429\n"
     ]
    }
   ],
   "source": [
    "model1.fit(X_train,y_train)\n",
    "y_pred = model1.predict(X_test)\n",
    "print(\"The accuracy score of Logistic Regression model is %s\" %(accuracy_score(y_test,y_pred)))\n",
    "print(\"The fbeta score of Logistic Regression model is %s\" %(fbeta_score(y_test,y_pred,beta=0.5)))"
   ]
  },
  {
   "cell_type": "code",
   "execution_count": 78,
   "metadata": {},
   "outputs": [
    {
     "name": "stdout",
     "output_type": "stream",
     "text": [
      "The accuracy score of Logistic Regression model is 0.7835563665855637\n",
      "The fbeta score of Logistic Regression model is 0.7286419629943643\n"
     ]
    }
   ],
   "source": [
    "model2 = DecisionTreeClassifier()\n",
    "model2.fit(X_train,y_train)\n",
    "y_pred = model2.predict(X_test)\n",
    "print(\"The accuracy score of DecisionTreeClassifier model is %s\" %(accuracy_score(y_test,y_pred)))\n",
    "print(\"The fbeta score of DecisionTreeClassifier model is %s\" %(fbeta_score(y_test,y_pred,beta=0.5)))"
   ]
  },
  {
   "cell_type": "code",
   "execution_count": 79,
   "metadata": {},
   "outputs": [
    {
     "name": "stdout",
     "output_type": "stream",
     "text": [
      "The accuracy score of Logistic Regression model is 0.833536090835361\n",
      "The fbeta score of Logistic Regression model is 0.8137148720287293\n"
     ]
    }
   ],
   "source": [
    "model3 = RandomForestClassifier()\n",
    "model3.fit(X_train,y_train)\n",
    "y_pred = model3.predict(X_test)\n",
    "print(\"The accuracy score of RandomForestClassifier model is %s\" %(accuracy_score(y_test,y_pred)))\n",
    "print(\"The fbeta score of RandomForestClassifier model is %s\" %(fbeta_score(y_test,y_pred,beta=0.5)))"
   ]
  },
  {
   "cell_type": "code",
   "execution_count": 80,
   "metadata": {},
   "outputs": [],
   "source": [
    "# Import 'make_scorer', 'DecisionTreeRegressor', and 'GridSearchCV'\n",
    "from sklearn.metrics import make_scorer,classification_report,confusion_matrix\n",
    "from sklearn.model_selection import GridSearchCV,ShuffleSplit"
   ]
  },
  {
   "cell_type": "code",
   "execution_count": 86,
   "metadata": {},
   "outputs": [],
   "source": [
    "def fit_model(X, y):\n",
    "    \"\"\" Performs grid search over the 'max_depth' parameter for a \n",
    "        decision tree regressor trained on the input data [X, y]. \"\"\"\n",
    "    \n",
    "    # Create cross-validation sets from the training data\n",
    "    cv_sets = ShuffleSplit(n_splits=10, random_state=0, test_size=0.2, train_size=None)\n",
    "\n",
    "    # Create a random forest classifier object\n",
    "    model = RandomForestClassifier()\n",
    "\n",
    "    # Create a dictionary for the parameters 'max_depth',min_samples_split and min_samples_leaf\n",
    "    params = {'max_depth':range(2,12,2),\n",
    "              'min_samples_split':range(2,12,2),\n",
    "              'min_samples_leaf':range(2,12,2)}\n",
    "\n",
    "    # Transform 'performance_metric' into a scoring function using 'make_scorer' \n",
    "    scoring_fnc = make_scorer(fbeta_score, beta=0.5)\n",
    "\n",
    "    # Create the grid search cv object --> GridSearchCV()\n",
    "    grid = GridSearchCV(model,params,scoring_fnc,cv=cv_sets)\n",
    "\n",
    "    # Fit the grid search object to the data to compute the optimal model\n",
    "    grid = grid.fit(X, y)\n",
    "\n",
    "    # Return the optimal model after fitting the data\n",
    "    return grid.best_estimator_"
   ]
  },
  {
   "cell_type": "code",
   "execution_count": 87,
   "metadata": {
    "scrolled": true
   },
   "outputs": [
    {
     "name": "stdout",
     "output_type": "stream",
     "text": [
      "Parameter 'max_depth' is 10 for the optimal model.\n",
      "Parameter 'min_samples_split' is 4 for the optimal model.\n",
      "Parameter 'min_samples_leaf' is 2 for the optimal model.\n"
     ]
    }
   ],
   "source": [
    "# Fit the training data to the model using grid search\n",
    "reg = fit_model(X_train, y_train)\n",
    "reg.score\n",
    "\n",
    "# Produce the values for 'max_depth',min_samples_split and min_samples_leaf\n",
    "print(\"Parameter 'max_depth' is {} for the optimal model.\".format(reg.get_params()['max_depth']))\n",
    "print(\"Parameter 'min_samples_split' is {} for the optimal model.\".format(reg.get_params()['min_samples_split']))\n",
    "print(\"Parameter 'min_samples_leaf' is {} for the optimal model.\".format(reg.get_params()['min_samples_leaf']))"
   ]
  },
  {
   "cell_type": "code",
   "execution_count": 91,
   "metadata": {},
   "outputs": [
    {
     "name": "stdout",
     "output_type": "stream",
     "text": [
      "The accuracy score of hypertuned RandomForestClassifier model is 0.8183292781832928\n",
      "The fbeta score of hypertuned RandomForestClassifier model is 0.810061148584757\n"
     ]
    }
   ],
   "source": [
    "# applying best hyperparameter values to RandomForestClassfier\n",
    "rf_clf = RandomForestClassifier(max_depth=10,min_samples_split=8,min_samples_leaf=2)\n",
    "rf_clf.fit(X_train,y_train)\n",
    "y_pred = rf_clf.predict(X_test)\n",
    "print(\"The accuracy score of hypertuned RandomForestClassifier model is %s\" %(accuracy_score(y_test,y_pred)))\n",
    "print(\"The fbeta score of hypertuned RandomForestClassifier model is %s\" %(fbeta_score(y_test,y_pred,beta=0.5)))"
   ]
  },
  {
   "cell_type": "code",
   "execution_count": 89,
   "metadata": {
    "scrolled": true
   },
   "outputs": [
    {
     "name": "stdout",
     "output_type": "stream",
     "text": [
      "             precision    recall  f1-score   support\n",
      "\n",
      "          0       0.83      0.91      0.87      5909\n",
      "          1       0.84      0.73      0.78      3955\n",
      "\n",
      "avg / total       0.83      0.83      0.83      9864\n",
      "\n"
     ]
    }
   ],
   "source": [
    "print(classification_report(y_test, y_pred))"
   ]
  },
  {
   "cell_type": "code",
   "execution_count": 90,
   "metadata": {},
   "outputs": [
    {
     "name": "stdout",
     "output_type": "stream",
     "text": [
      "[[5350  559]\n",
      " [1078 2877]]\n"
     ]
    }
   ],
   "source": [
    "print(confusion_matrix(y_test, y_pred))"
   ]
  },
  {
   "cell_type": "code",
   "execution_count": 92,
   "metadata": {},
   "outputs": [
    {
     "data": {
      "image/png": "[encoded data removed]",
      "text/plain": [
       "<Figure size 432x288 with 1 Axes>"
      ]
     },
     "metadata": {},
     "output_type": "display_data"
    }
   ],
   "source": [
    "# exhibiting feature importance\n",
    "features = X.columns\n",
    "importances = rf_clf.feature_importances_\n",
    "indices = np.argsort(importances)\n",
    "plt.title('Feature Importances')\n",
    "plt.barh(range(len(indices)), importances[indices], color='b', align='center')\n",
    "plt.yticks(range(len(indices)), [features[i] for i in indices])\n",
    "plt.xlabel('Relative Importance')\n",
    "plt.show()"
   ]
  },
  {
   "cell_type": "code",
   "execution_count": null,
   "metadata": {},
   "outputs": [],
   "source": []
  }
 ],
 "metadata": {
  "kernelspec": {
   "display_name": "Python 3",
   "language": "python",
   "name": "python3"
  },
  "language_info": {
   "codemirror_mode": {
    "name": "ipython",
    "version": 3
   },
   "file_extension": ".py",
   "mimetype": "text/x-python",
   "name": "python",
   "nbconvert_exporter": "python",
   "pygments_lexer": "ipython3",
   "version": "3.6.4"
  }
 },
 "nbformat": 4,
 "nbformat_minor": 2
}
